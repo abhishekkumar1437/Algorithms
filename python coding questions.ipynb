{
 "cells": [
  {
   "cell_type": "code",
   "execution_count": 2,
   "id": "989f566e-dcd4-422f-831a-b7f9aec71cfb",
   "metadata": {},
   "outputs": [
    {
     "name": "stdout",
     "output_type": "stream",
     "text": [
      "26   26\n"
     ]
    }
   ],
   "source": [
    "arr=[11,-3,7,-3,-9,4,6,-1,14]\n",
    "\n",
    "current_sum=arr[0]\n",
    "max_sum=float('-inf')\n",
    "\n",
    "for val in range(1,len(arr)):\n",
    "    current_sum=max(arr[val],arr[val]+current_sum)\n",
    "    max_sum=max(max_sum, current_sum)\n",
    "print(max_sum,\" \", current_sum)"
   ]
  },
  {
   "cell_type": "code",
   "execution_count": 4,
   "id": "42b018db-0dad-4a1f-a9d2-51b374e6a086",
   "metadata": {},
   "outputs": [
    {
     "name": "stdin",
     "output_type": "stream",
     "text": [
      " 1 2 3\n",
      " 4 5 6\n",
      " 7 8 9\n"
     ]
    },
    {
     "name": "stdout",
     "output_type": "stream",
     "text": [
      "[[1, 2, 3], [4, 5, 6], [7, 8, 9]]\n"
     ]
    }
   ],
   "source": [
    "matrix=[]\n",
    "for i in range(3):\n",
    "    row=list(map(int, input().split()))\n",
    "    matrix.append(row)\n",
    "print(matrix)"
   ]
  },
  {
   "cell_type": "code",
   "execution_count": 25,
   "id": "92a2da78-b3b1-4017-b5a5-883458329de4",
   "metadata": {},
   "outputs": [
    {
     "name": "stdout",
     "output_type": "stream",
     "text": [
      "[[1, 5], [6, 7]]\n"
     ]
    }
   ],
   "source": [
    "# merge interval\n",
    "\n",
    "arr=[[1,4],[3,5],[6,7]]\n",
    "\n",
    "arr.sort(key=lambda x:x[0])\n",
    "merged=[]\n",
    "\n",
    "for val in arr:\n",
    "    if not merged or merged[-1][1]<val[0]:\n",
    "        merged.append(val)\n",
    "    else:\n",
    "        merged[-1][1]=max(merged[-1][1], val[1])\n",
    "print(merged)\n"
   ]
  },
  {
   "cell_type": "code",
   "execution_count": 47,
   "id": "adbdbf48-489d-4c6d-8a04-df7e0b669188",
   "metadata": {},
   "outputs": [
    {
     "name": "stdout",
     "output_type": "stream",
     "text": [
      "4\n",
      "4\n"
     ]
    }
   ],
   "source": [
    "#Find the maximum number of vowels in any substring of size K in a string.\n",
    "string=\"abhiiiii\"\n",
    "k=4\n",
    "\n",
    "count=0\n",
    "vowel=['a','e','i','o','u','A','E','I','O','U']\n",
    "for i in range(k):\n",
    "    if string[i] in vowel:\n",
    "        count+=1\n",
    "max_val=count\n",
    "for i in range(k,len(string)):\n",
    "    if string[i-k] in vowel:\n",
    "        count-=1\n",
    "    if string[i] in vowel:\n",
    "        count+=1\n",
    "    max_val=max(max_val,count)\n",
    "print(count) \n",
    "print(max_val)"
   ]
  },
  {
   "cell_type": "code",
   "execution_count": 18,
   "id": "0eaf15eb-963c-4158-b30f-85987617828f",
   "metadata": {},
   "outputs": [
    {
     "name": "stdout",
     "output_type": "stream",
     "text": [
      "0\n",
      "1\n",
      "1\n",
      "2\n",
      "3\n",
      "5\n",
      "8\n",
      "13\n",
      "21\n",
      "34\n"
     ]
    }
   ],
   "source": [
    "def fib():\n",
    "    a=0\n",
    "    b=1\n",
    "    while True:\n",
    "        yield a\n",
    "        a,b=b,a+b\n",
    "        \n",
    "febonacci=fib()\n",
    "for i in range(10):\n",
    "    print(next(febonacci))"
   ]
  },
  {
   "cell_type": "code",
   "execution_count": 14,
   "id": "7f3a48f1-7c14-4f51-af5d-eb287bc914fd",
   "metadata": {},
   "outputs": [
    {
     "name": "stdout",
     "output_type": "stream",
     "text": [
      "0\n",
      "1\n",
      "1\n",
      "2\n",
      "3\n",
      "5\n",
      "8\n",
      "13\n",
      "21\n",
      "34\n"
     ]
    }
   ],
   "source": [
    "def fibonacci_generator():\n",
    "    a, b = 0, 1\n",
    "    while True:\n",
    "        yield a\n",
    "        a, b = b, a + b\n",
    "\n",
    "# Example usage\n",
    "fib = fibonacci_generator()\n",
    "\n",
    "# Get the first 10 Fibonacci numbers\n",
    "for _ in range(10):\n",
    "    print(next(fib))\n"
   ]
  },
  {
   "cell_type": "code",
   "execution_count": 31,
   "id": "6a98284a-3d82-4ced-a432-37c168e1c104",
   "metadata": {},
   "outputs": [
    {
     "name": "stdout",
     "output_type": "stream",
     "text": [
      "13\n"
     ]
    }
   ],
   "source": [
    "# def fibonacci(n):\n",
    "#     a=0\n",
    "#     b=1\n",
    "    \n",
    "#     for i in range(2,n):\n",
    "#         print(a)\n",
    "#         c=a+b\n",
    "#         a=b\n",
    "#         b=c\n",
    "  \n",
    "# print(fibonacci(10))\n",
    "\n",
    "def fib(n):\n",
    "    if n<=1:\n",
    "        return n\n",
    "    else:\n",
    "        return fib(n-1)+fib(n-2)\n",
    "print(fib(7))\n",
    "        "
   ]
  },
  {
   "cell_type": "code",
   "execution_count": 34,
   "id": "cfc526fb-ab98-40f1-8c78-57d982643620",
   "metadata": {},
   "outputs": [
    {
     "name": "stdout",
     "output_type": "stream",
     "text": [
      "720\n"
     ]
    }
   ],
   "source": [
    "def fact(n):\n",
    "    if n<=1:\n",
    "        return n\n",
    "    else:\n",
    "        return fact(n-1)*n\n",
    "print(fact(6))"
   ]
  },
  {
   "cell_type": "code",
   "execution_count": 47,
   "id": "39a4bc52-025d-499d-a09d-0055e7dd61d1",
   "metadata": {},
   "outputs": [
    {
     "name": "stdout",
     "output_type": "stream",
     "text": [
      "1\n",
      "2\n",
      "6\n",
      "24\n"
     ]
    }
   ],
   "source": [
    "def fact(n):\n",
    "    val=1\n",
    "    for i in range(1,n):\n",
    "        val=i*val\n",
    "        yield val\n",
    "n=5\n",
    "for val in fact(n):\n",
    "    print(val)"
   ]
  },
  {
   "cell_type": "code",
   "execution_count": 45,
   "id": "2a1d1579-c32d-4383-9822-ec4f205c3ee4",
   "metadata": {},
   "outputs": [
    {
     "name": "stdout",
     "output_type": "stream",
     "text": [
      "1\n",
      "2\n",
      "6\n",
      "24\n",
      "120\n"
     ]
    }
   ],
   "source": [
    "def factorial_generator(n):\n",
    "    result = 1\n",
    "    for i in range(1, n + 1):\n",
    "        result *= i\n",
    "        yield result\n",
    "\n",
    "# Example usage: Get the factorial of numbers from 1 to 5\n",
    "n = 5\n",
    "for fact in factorial_generator(n):\n",
    "    print(fact)\n"
   ]
  },
  {
   "cell_type": "code",
   "execution_count": 56,
   "id": "a6c5b25d-075f-41bc-bd09-b3e9f4e0c21e",
   "metadata": {},
   "outputs": [
    {
     "name": "stdout",
     "output_type": "stream",
     "text": [
      "2\n",
      "4\n",
      "6\n",
      "8\n",
      "10\n",
      "12\n",
      "14\n",
      "16\n",
      "18\n"
     ]
    }
   ],
   "source": [
    "def num_gen(n):\n",
    "    for i in range(1,n):\n",
    "        yield i*2\n",
    "res=num_gen(10)\n",
    "for i in range(9):\n",
    "    print(next(res))"
   ]
  },
  {
   "cell_type": "code",
   "execution_count": 64,
   "id": "6755ecfe-9c7c-496e-9310-0e7d99d1f77a",
   "metadata": {},
   "outputs": [
    {
     "name": "stdout",
     "output_type": "stream",
     "text": [
      "Trxn ended\n",
      "Trxn started\n",
      "This is original function:\n"
     ]
    },
    {
     "data": {
      "text/plain": [
       "15"
      ]
     },
     "execution_count": 64,
     "metadata": {},
     "output_type": "execute_result"
    }
   ],
   "source": [
    "def my_decorator_func(original_func):\n",
    "    def inner_wrapper_func(*args,**kwargs):\n",
    "        print(\"Trxn started\")\n",
    "        result=original_func(*args,**kwargs)\n",
    "        return result\n",
    "    return inner_wrapper_func\n",
    "\n",
    "@my_decorator_func\n",
    "def original_func(a,b):\n",
    "    print(\"This is original function:\")\n",
    "    return a+b\n",
    "    \n",
    "original_func(5,10)"
   ]
  },
  {
   "cell_type": "code",
   "execution_count": 65,
   "id": "3cb0884c-0580-4e2c-8bbf-53e7730fc6d7",
   "metadata": {},
   "outputs": [
    {
     "name": "stdin",
     "output_type": "stream",
     "text": [
      " 1 2 3\n",
      " 4 5 6\n",
      " 7 8 9\n"
     ]
    },
    {
     "name": "stdout",
     "output_type": "stream",
     "text": [
      "[[1, 2, 3], [4, 5, 6], [7, 8, 9]]\n"
     ]
    }
   ],
   "source": [
    "matrix=[]\n",
    "for i in range(3):\n",
    "    row=list(map(int,input().split()))\n",
    "    matrix.append(row)\n",
    "print(matrix)"
   ]
  },
  {
   "cell_type": "code",
   "execution_count": 68,
   "id": "e7c056e6-e6d1-473c-9153-c6fdd2cae168",
   "metadata": {},
   "outputs": [],
   "source": [
    "flattened=[num for row in matrix for num in row]"
   ]
  },
  {
   "cell_type": "code",
   "execution_count": 69,
   "id": "08fc9471-fd8e-479e-91d3-5367739a75a9",
   "metadata": {},
   "outputs": [
    {
     "name": "stdout",
     "output_type": "stream",
     "text": [
      "[1, 2, 3, 4, 5, 6, 7, 8, 9]\n"
     ]
    }
   ],
   "source": [
    "print(flattened)"
   ]
  },
  {
   "cell_type": "code",
   "execution_count": 83,
   "id": "a65aea8d-febe-4601-9232-af9adb482a82",
   "metadata": {},
   "outputs": [
    {
     "name": "stdout",
     "output_type": "stream",
     "text": [
      "Dog 20\n",
      "Dog1 20\n",
      "Dog2 20\n",
      "Dog3 20\n",
      "Dog4 20\n",
      "Dog5 20\n"
     ]
    }
   ],
   "source": [
    "class Animals:\n",
    "    instances=[]\n",
    "    def __init__(self,name,age):\n",
    "        self.name=name\n",
    "        self.age=age\n",
    "        Animals.instances.append(self)\n",
    "\n",
    "    @classmethod\n",
    "    def get_all_instances(cls):\n",
    "        return cls.instances\n",
    "    \n",
    "obj1=Animals(\"Dog\",20)\n",
    "obj2=Animals(\"Dog1\",20)\n",
    "obj3=Animals(\"Dog2\",20)\n",
    "obj4=Animals(\"Dog3\",20)\n",
    "obj5=Animals(\"Dog4\",20)\n",
    "obj6=Animals(\"Dog5\",20)\n",
    "\n",
    "obj=Animals.get_all_instances()\n",
    "for instance in obj:\n",
    "    print(instance.name,instance.age)\n"
   ]
  },
  {
   "cell_type": "code",
   "execution_count": 77,
   "id": "d828a609-078a-4744-91d9-6b49d20589e7",
   "metadata": {},
   "outputs": [
    {
     "name": "stdout",
     "output_type": "stream",
     "text": [
      "Cat   3   4\n"
     ]
    }
   ],
   "source": [
    "class Animals:\n",
    "    legs=4\n",
    "    def __init__(self,name,age):\n",
    "        \n",
    "        self.name=name\n",
    "        self.age=age\n",
    "    \n",
    "\n",
    "class WaterAnimal(Animals):\n",
    "    def display(self):\n",
    "        print(self.name,\" \", self.age,\" \",self.legs)\n",
    "obj1=WaterAnimal(\"Cat\",3)\n",
    "obj1.display()"
   ]
  },
  {
   "cell_type": "code",
   "execution_count": null,
   "id": "69929a15-c94a-47af-96d1-140b9c8ea97b",
   "metadata": {},
   "outputs": [],
   "source": []
  }
 ],
 "metadata": {
  "kernelspec": {
   "display_name": "Python 3 (ipykernel)",
   "language": "python",
   "name": "python3"
  },
  "language_info": {
   "codemirror_mode": {
    "name": "ipython",
    "version": 3
   },
   "file_extension": ".py",
   "mimetype": "text/x-python",
   "name": "python",
   "nbconvert_exporter": "python",
   "pygments_lexer": "ipython3",
   "version": "3.12.7"
  }
 },
 "nbformat": 4,
 "nbformat_minor": 5
}
